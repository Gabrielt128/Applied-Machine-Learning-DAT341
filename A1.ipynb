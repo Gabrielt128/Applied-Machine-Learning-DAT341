{
 "cells": [
  {
   "cell_type": "markdown",
   "metadata": {},
   "source": [
    "#  PA1 : INTRODUCTION TO ML WORKFLOW AND DECISION TREE"
   ]
  },
  {
   "cell_type": "markdown",
   "metadata": {},
   "source": [
    "### Task 1: A classification example: fetal heart condition diagnosis"
   ]
  },
  {
   "cell_type": "markdown",
   "metadata": {},
   "source": [
    "#### Step 1.1 Reading the data"
   ]
  },
  {
   "cell_type": "code",
   "execution_count": 3,
   "metadata": {},
   "outputs": [
    {
     "data": {
      "text/html": [
       "<div>\n",
       "<style scoped>\n",
       "    .dataframe tbody tr th:only-of-type {\n",
       "        vertical-align: middle;\n",
       "    }\n",
       "\n",
       "    .dataframe tbody tr th {\n",
       "        vertical-align: top;\n",
       "    }\n",
       "\n",
       "    .dataframe thead th {\n",
       "        text-align: right;\n",
       "    }\n",
       "</style>\n",
       "<table border=\"1\" class=\"dataframe\">\n",
       "  <thead>\n",
       "    <tr style=\"text-align: right;\">\n",
       "      <th></th>\n",
       "      <th>b</th>\n",
       "      <th>e</th>\n",
       "      <th>AC</th>\n",
       "      <th>FM</th>\n",
       "      <th>UC</th>\n",
       "      <th>DL</th>\n",
       "      <th>DS</th>\n",
       "      <th>DP</th>\n",
       "      <th>DR</th>\n",
       "      <th>Unnamed: 9</th>\n",
       "      <th>...</th>\n",
       "      <th>E</th>\n",
       "      <th>AD</th>\n",
       "      <th>DE</th>\n",
       "      <th>LD</th>\n",
       "      <th>FS</th>\n",
       "      <th>SUSP</th>\n",
       "      <th>Unnamed: 42</th>\n",
       "      <th>CLASS</th>\n",
       "      <th>Unnamed: 44</th>\n",
       "      <th>NSP</th>\n",
       "    </tr>\n",
       "  </thead>\n",
       "  <tbody>\n",
       "    <tr>\n",
       "      <th>0</th>\n",
       "      <td>240.0</td>\n",
       "      <td>357.0</td>\n",
       "      <td>0.0</td>\n",
       "      <td>0.0</td>\n",
       "      <td>0.0</td>\n",
       "      <td>0.0</td>\n",
       "      <td>0.0</td>\n",
       "      <td>0.0</td>\n",
       "      <td>0.0</td>\n",
       "      <td>NaN</td>\n",
       "      <td>...</td>\n",
       "      <td>-1.0</td>\n",
       "      <td>-1.0</td>\n",
       "      <td>-1.0</td>\n",
       "      <td>-1.0</td>\n",
       "      <td>1.0</td>\n",
       "      <td>-1.0</td>\n",
       "      <td>NaN</td>\n",
       "      <td>9.0</td>\n",
       "      <td>NaN</td>\n",
       "      <td>2.0</td>\n",
       "    </tr>\n",
       "    <tr>\n",
       "      <th>1</th>\n",
       "      <td>5.0</td>\n",
       "      <td>632.0</td>\n",
       "      <td>4.0</td>\n",
       "      <td>0.0</td>\n",
       "      <td>4.0</td>\n",
       "      <td>2.0</td>\n",
       "      <td>0.0</td>\n",
       "      <td>0.0</td>\n",
       "      <td>0.0</td>\n",
       "      <td>NaN</td>\n",
       "      <td>...</td>\n",
       "      <td>-1.0</td>\n",
       "      <td>1.0</td>\n",
       "      <td>-1.0</td>\n",
       "      <td>-1.0</td>\n",
       "      <td>-1.0</td>\n",
       "      <td>-1.0</td>\n",
       "      <td>NaN</td>\n",
       "      <td>6.0</td>\n",
       "      <td>NaN</td>\n",
       "      <td>1.0</td>\n",
       "    </tr>\n",
       "    <tr>\n",
       "      <th>2</th>\n",
       "      <td>177.0</td>\n",
       "      <td>779.0</td>\n",
       "      <td>2.0</td>\n",
       "      <td>0.0</td>\n",
       "      <td>5.0</td>\n",
       "      <td>2.0</td>\n",
       "      <td>0.0</td>\n",
       "      <td>0.0</td>\n",
       "      <td>0.0</td>\n",
       "      <td>NaN</td>\n",
       "      <td>...</td>\n",
       "      <td>-1.0</td>\n",
       "      <td>1.0</td>\n",
       "      <td>-1.0</td>\n",
       "      <td>-1.0</td>\n",
       "      <td>-1.0</td>\n",
       "      <td>-1.0</td>\n",
       "      <td>NaN</td>\n",
       "      <td>6.0</td>\n",
       "      <td>NaN</td>\n",
       "      <td>1.0</td>\n",
       "    </tr>\n",
       "    <tr>\n",
       "      <th>3</th>\n",
       "      <td>411.0</td>\n",
       "      <td>1192.0</td>\n",
       "      <td>2.0</td>\n",
       "      <td>0.0</td>\n",
       "      <td>6.0</td>\n",
       "      <td>2.0</td>\n",
       "      <td>0.0</td>\n",
       "      <td>0.0</td>\n",
       "      <td>0.0</td>\n",
       "      <td>NaN</td>\n",
       "      <td>...</td>\n",
       "      <td>-1.0</td>\n",
       "      <td>1.0</td>\n",
       "      <td>-1.0</td>\n",
       "      <td>-1.0</td>\n",
       "      <td>-1.0</td>\n",
       "      <td>-1.0</td>\n",
       "      <td>NaN</td>\n",
       "      <td>6.0</td>\n",
       "      <td>NaN</td>\n",
       "      <td>1.0</td>\n",
       "    </tr>\n",
       "    <tr>\n",
       "      <th>4</th>\n",
       "      <td>533.0</td>\n",
       "      <td>1147.0</td>\n",
       "      <td>4.0</td>\n",
       "      <td>0.0</td>\n",
       "      <td>5.0</td>\n",
       "      <td>0.0</td>\n",
       "      <td>0.0</td>\n",
       "      <td>0.0</td>\n",
       "      <td>0.0</td>\n",
       "      <td>NaN</td>\n",
       "      <td>...</td>\n",
       "      <td>-1.0</td>\n",
       "      <td>-1.0</td>\n",
       "      <td>-1.0</td>\n",
       "      <td>-1.0</td>\n",
       "      <td>-1.0</td>\n",
       "      <td>-1.0</td>\n",
       "      <td>NaN</td>\n",
       "      <td>2.0</td>\n",
       "      <td>NaN</td>\n",
       "      <td>1.0</td>\n",
       "    </tr>\n",
       "  </tbody>\n",
       "</table>\n",
       "<p>5 rows × 46 columns</p>\n",
       "</div>"
      ],
      "text/plain": [
       "       b       e   AC   FM   UC   DL   DS   DP   DR  Unnamed: 9  ...    E  \\\n",
       "0  240.0   357.0  0.0  0.0  0.0  0.0  0.0  0.0  0.0         NaN  ... -1.0   \n",
       "1    5.0   632.0  4.0  0.0  4.0  2.0  0.0  0.0  0.0         NaN  ... -1.0   \n",
       "2  177.0   779.0  2.0  0.0  5.0  2.0  0.0  0.0  0.0         NaN  ... -1.0   \n",
       "3  411.0  1192.0  2.0  0.0  6.0  2.0  0.0  0.0  0.0         NaN  ... -1.0   \n",
       "4  533.0  1147.0  4.0  0.0  5.0  0.0  0.0  0.0  0.0         NaN  ... -1.0   \n",
       "\n",
       "    AD   DE   LD   FS  SUSP  Unnamed: 42  CLASS  Unnamed: 44  NSP  \n",
       "0 -1.0 -1.0 -1.0  1.0  -1.0          NaN    9.0          NaN  2.0  \n",
       "1  1.0 -1.0 -1.0 -1.0  -1.0          NaN    6.0          NaN  1.0  \n",
       "2  1.0 -1.0 -1.0 -1.0  -1.0          NaN    6.0          NaN  1.0  \n",
       "3  1.0 -1.0 -1.0 -1.0  -1.0          NaN    6.0          NaN  1.0  \n",
       "4 -1.0 -1.0 -1.0 -1.0  -1.0          NaN    2.0          NaN  1.0  \n",
       "\n",
       "[5 rows x 46 columns]"
      ]
     },
     "execution_count": 3,
     "metadata": {},
     "output_type": "execute_result"
    }
   ],
   "source": [
    "import pandas as pd \n",
    "import numpy as np\n",
    "from sklearn.model_selection import train_test_split \n",
    "\n",
    "data = pd.read_csv(\"CTG.csv\",skiprows=1) \n",
    "data.head()"
   ]
  },
  {
   "cell_type": "code",
   "execution_count": 4,
   "metadata": {},
   "outputs": [],
   "source": [
    "# Select the relevant numerical columns.\n",
    "selected_cols = ['LB', 'AC', 'FM', 'UC', 'DL', 'DS', 'DP', 'ASTV', 'MSTV', 'ALTV',\n",
    "                 'MLTV', 'Width', 'Min', 'Max', 'Nmax', 'Nzeros', 'Mode', 'Mean',\n",
    "                 'Median', 'Variance', 'Tendency', 'NSP']\n",
    "data = data[selected_cols].dropna()\n",
    "# Shuffle the dataset.\n",
    "data_shuffled = data.sample(frac=1.0, random_state=0)\n",
    "# Split into input part X and output part Y.\n",
    "X = data_shuffled.drop('NSP', axis=1)\n",
    "# Map the diagnosis code to a human-readable label.\n",
    "def to_label(y):\n",
    "    return [None, 'normal', 'suspect', 'pathologic'][(int(y))]\n",
    "\n",
    "Y = data_shuffled['NSP'].apply(to_label)\n",
    "# Partition the data into training and test sets.\n",
    "Xtrain, Xtest, Ytrain, Ytest = train_test_split(X, Y, test_size=0.2, random_state=0)"
   ]
  },
  {
   "cell_type": "markdown",
   "metadata": {},
   "source": [
    "#### Step 1.2  Training the baseline classifier"
   ]
  },
  {
   "cell_type": "code",
   "execution_count": 5,
   "metadata": {},
   "outputs": [
    {
     "name": "stdout",
     "output_type": "stream",
     "text": [
      "[0.78235294 0.78235294 0.77941176 0.77941176 0.77941176] \n",
      "The mean score is 0.7805882352941176\n"
     ]
    }
   ],
   "source": [
    "from sklearn.dummy import DummyClassifier\n",
    "from sklearn.model_selection import cross_val_score\n",
    "\n",
    "dummy_clf = DummyClassifier(strategy='most_frequent')\n",
    "clf1 = cross_val_score(dummy_clf, Xtrain, Ytrain)\n",
    "print(clf1, f'\\nThe mean score is {np.mean(clf1)}')"
   ]
  },
  {
   "cell_type": "markdown",
   "metadata": {},
   "source": [
    "#### Step 1.3 Trying out some different classifiers"
   ]
  },
  {
   "cell_type": "markdown",
   "metadata": {},
   "source": [
    "##### Tree-based classifiers:"
   ]
  },
  {
   "cell_type": "markdown",
   "metadata": {},
   "source": [
    "*DecisionTreeClassifier*"
   ]
  },
  {
   "cell_type": "code",
   "execution_count": 6,
   "metadata": {},
   "outputs": [
    {
     "name": "stdout",
     "output_type": "stream",
     "text": [
      "[0.91764706 0.92647059 0.90588235 0.92647059 0.93823529] \n",
      "and the mean classification accuracy for DecisionTreeClassifier is 0.9229411764705884\n"
     ]
    }
   ],
   "source": [
    "from sklearn.tree import DecisionTreeClassifier\n",
    "\n",
    "tree_clf = DecisionTreeClassifier()\n",
    "# clf.fit(Xtrain, Ytrain)\n",
    "clf2 = cross_val_score(tree_clf, Xtrain, Ytrain)\n",
    "print(clf2, f'\\nand the mean classification accuracy for DecisionTreeClassifier is {np.mean(clf2)}')"
   ]
  },
  {
   "cell_type": "code",
   "execution_count": 7,
   "metadata": {},
   "outputs": [
    {
     "name": "stdout",
     "output_type": "stream",
     "text": [
      "[0.88823529 0.90294118 0.87647059 0.85882353 0.87647059] \n",
      "and the mean classification accuracy for max depth choice 2 is 0.8805882352941176\n",
      "\n",
      "[0.92058824 0.94117647 0.90588235 0.90882353 0.92058824] \n",
      "and the mean classification accuracy for max depth choice 4 is 0.9194117647058823\n",
      "\n",
      "[0.91764706 0.94705882 0.90882353 0.92647059 0.95588235] \n",
      "and the mean classification accuracy for max depth choice 6 is 0.9311764705882354\n",
      "\n",
      "[0.93529412 0.94411765 0.91764706 0.90882353 0.95      ] \n",
      "and the mean classification accuracy for max depth choice 8 is 0.9311764705882352\n",
      "\n",
      "[0.91764706 0.92647059 0.91176471 0.90882353 0.93235294] \n",
      "and the mean classification accuracy for max depth choice 10 is 0.9194117647058823\n",
      "\n",
      "[0.91470588 0.95294118 0.90588235 0.91470588 0.93823529] \n",
      "and the mean classification accuracy for max depth choice 12 is 0.9252941176470587\n",
      "\n",
      "[0.91764706 0.94705882 0.92058824 0.91470588 0.93823529] \n",
      "and the mean classification accuracy for max depth choice 14 is 0.9276470588235293\n",
      "\n",
      "[0.90588235 0.94117647 0.91176471 0.90588235 0.93823529] \n",
      "and the mean classification accuracy for max depth choice 16 is 0.9205882352941176\n",
      "\n",
      "[0.90882353 0.94117647 0.91764706 0.90882353 0.93823529] \n",
      "and the mean classification accuracy for max depth choice 18 is 0.9229411764705882\n",
      "\n"
     ]
    }
   ],
   "source": [
    "#tune the parameter\n",
    "for maxi in range(2, 20, 2):\n",
    "  tree_clf = DecisionTreeClassifier(max_depth = maxi)\n",
    "  clf2 = cross_val_score(tree_clf, Xtrain, Ytrain)\n",
    "  print(clf2, f'\\nand the mean classification accuracy for max depth choice {maxi} is {np.mean(clf2)}\\n')"
   ]
  },
  {
   "cell_type": "markdown",
   "metadata": {},
   "source": [
    "##### Findings: We tried to tune the parameters of DecisionTreeClassifier and observer that perfomance have increased after tuning ,it performs well at the maximum depth 8 with mean 0.93412"
   ]
  },
  {
   "cell_type": "markdown",
   "metadata": {},
   "source": [
    "*Random forest*"
   ]
  },
  {
   "cell_type": "code",
   "execution_count": 8,
   "metadata": {},
   "outputs": [
    {
     "name": "stdout",
     "output_type": "stream",
     "text": [
      "[0.93823529 0.95882353 0.92647059 0.93529412 0.94411765] \n",
      "and the mean classification accuracy of RandomForestClassifier is 0.9405882352941177\n"
     ]
    }
   ],
   "source": [
    "from sklearn.ensemble import RandomForestClassifier\n",
    "rforest_clf = RandomForestClassifier()\n",
    "clf3 = cross_val_score(rforest_clf, Xtrain, Ytrain)\n",
    "print(clf3, f'\\nand the mean classification accuracy of RandomForestClassifier is {np.mean(clf3)}')"
   ]
  },
  {
   "cell_type": "markdown",
   "metadata": {},
   "source": [
    "*GradientBoostingClassifier*"
   ]
  },
  {
   "cell_type": "code",
   "execution_count": 10,
   "metadata": {},
   "outputs": [
    {
     "name": "stdout",
     "output_type": "stream",
     "text": [
      "[0.94117647 0.96176471 0.94411765 0.94411765 0.95294118] \n",
      "and the mean classification accuracy of GradientBoostingClassifier is 0.9488235294117647\n"
     ]
    }
   ],
   "source": [
    "from sklearn.ensemble import GradientBoostingClassifier\n",
    "bosting_clf = GradientBoostingClassifier()\n",
    "clf4 = cross_val_score(bosting_clf, Xtrain, Ytrain)\n",
    "print(clf4, f'\\nand the mean classification accuracy of GradientBoostingClassifier is {np.mean(clf4)}')"
   ]
  },
  {
   "cell_type": "markdown",
   "metadata": {},
   "source": [
    "#### Linear Classification"
   ]
  },
  {
   "cell_type": "markdown",
   "metadata": {},
   "source": [
    "*Linear perceptron classifier.*"
   ]
  },
  {
   "cell_type": "code",
   "execution_count": 11,
   "metadata": {},
   "outputs": [
    {
     "name": "stdout",
     "output_type": "stream",
     "text": [
      "[0.84705882 0.88529412 0.82941176 0.85294118 0.71176471] \n",
      "and the mean classification accuracy of Perceptron is 0.825294117647059\n"
     ]
    }
   ],
   "source": [
    "from sklearn.linear_model import Perceptron\n",
    "linear_clf = Perceptron()\n",
    "clf5 = cross_val_score(linear_clf, Xtrain, Ytrain)\n",
    "print(clf5, f'\\nand the mean classification accuracy of Perceptron is {np.mean(clf5)}')"
   ]
  },
  {
   "cell_type": "markdown",
   "metadata": {},
   "source": [
    "*LogisticRegression*"
   ]
  },
  {
   "cell_type": "code",
   "execution_count": 12,
   "metadata": {},
   "outputs": [
    {
     "name": "stdout",
     "output_type": "stream",
     "text": [
      "[0.88823529 0.88235294 0.87058824 0.87352941 0.85588235] \n",
      "and the mean classification accuracy of LogisticRegression is 0.8741176470588234\n"
     ]
    }
   ],
   "source": [
    "# todo not showing the convergence warning\n",
    "import warnings\n",
    "from sklearn.exceptions import ConvergenceWarning\n",
    "warnings.filterwarnings(\"ignore\", category=ConvergenceWarning)\n",
    "\n",
    "from sklearn.linear_model import LogisticRegression\n",
    "logistic_clf = LogisticRegression()\n",
    "clf6 = cross_val_score(logistic_clf, Xtrain, Ytrain)\n",
    "print(clf6, f'\\nand the mean classification accuracy of LogisticRegression is {np.mean(clf6)}')"
   ]
  },
  {
   "cell_type": "markdown",
   "metadata": {},
   "source": [
    "*Linear Support Vector Classification.*"
   ]
  },
  {
   "cell_type": "code",
   "execution_count": 13,
   "metadata": {},
   "outputs": [
    {
     "name": "stdout",
     "output_type": "stream",
     "text": [
      "[0.88235294 0.86470588 0.86176471 0.88823529 0.86470588] \n",
      "and the mean classification accuracy of LinearSVC is 0.8723529411764706\n"
     ]
    }
   ],
   "source": [
    "# todo: hide the future warning\n",
    "warnings.filterwarnings(\"ignore\", category=FutureWarning)\n",
    "\n",
    "from sklearn.svm import LinearSVC\n",
    "svm_clf = LinearSVC()\n",
    "clf7 = cross_val_score(svm_clf, Xtrain, Ytrain)\n",
    "print(clf7, f'\\nand the mean classification accuracy of LinearSVC is {np.mean(clf7)}')"
   ]
  },
  {
   "cell_type": "markdown",
   "metadata": {},
   "source": [
    "##### Neural network classifier"
   ]
  },
  {
   "cell_type": "markdown",
   "metadata": {},
   "source": [
    "*Multi-layer Perceptron classifier.*"
   ]
  },
  {
   "cell_type": "code",
   "execution_count": 14,
   "metadata": {},
   "outputs": [
    {
     "name": "stdout",
     "output_type": "stream",
     "text": [
      "[0.86176471 0.9        0.88529412 0.88823529 0.87058824] \n",
      "and the mean classification accuracy of MLPClassifier is 0.8811764705882353\n"
     ]
    }
   ],
   "source": [
    "from sklearn.neural_network import MLPClassifier\n",
    "neural_clf = MLPClassifier()\n",
    "clf8 = cross_val_score(neural_clf, Xtrain, Ytrain)\n",
    "print(clf8, f'\\nand the mean classification accuracy of MLPClassifier is {np.mean(clf8)}')"
   ]
  },
  {
   "cell_type": "code",
   "execution_count": 15,
   "metadata": {},
   "outputs": [
    {
     "name": "stdout",
     "output_type": "stream",
     "text": [
      "[0.89705882 0.88235294 0.85588235 0.9        0.89117647] \n",
      "and the mean classification accuracy for (50,) is 0.8852941176470589\n",
      "\n",
      "[0.89117647 0.88823529 0.88235294 0.89411765 0.83823529] \n",
      "and the mean classification accuracy for (200,) is 0.8788235294117646\n",
      "\n",
      "[0.89705882 0.88529412 0.83235294 0.88529412 0.89705882] \n",
      "and the mean classification accuracy for (50, 30) is 0.8794117647058824\n",
      "\n",
      "[0.82058824 0.88529412 0.87647059 0.88529412 0.88235294] \n",
      "and the mean classification accuracy for (200, 50) is 0.8699999999999999\n",
      "\n",
      "[0.91176471 0.91176471 0.85294118 0.90588235 0.89117647] \n",
      "and the mean classification accuracy for (100, 50, 30) is 0.8947058823529412\n",
      "\n"
     ]
    }
   ],
   "source": [
    "# tune the hyperparameters (the number of layers & neurons)\n",
    "hidden_layer_structures = [(50,), (200,), (50, 30), (200, 50), (100, 50, 30)]\n",
    "for structure in hidden_layer_structures:\n",
    "  neural_clf = MLPClassifier(hidden_layer_sizes = structure)\n",
    "  clf = cross_val_score(neural_clf, Xtrain, Ytrain)\n",
    "  print(clf, f'\\nand the mean classification accuracy for {structure} is {np.mean(clf)}\\n')"
   ]
  },
  {
   "cell_type": "markdown",
   "metadata": {},
   "source": [
    "##### Findings: We tried to tune the hyperparameter(layers & neurons), and the classifier performs better at (200，) with mean score 0.8935294117647059"
   ]
  },
  {
   "cell_type": "markdown",
   "metadata": {},
   "source": [
    "#### Step 1.4  Final evaluation"
   ]
  },
  {
   "cell_type": "markdown",
   "metadata": {},
   "source": [
    "##### We found  out that the Gradient Boosting Classifier has the best accuracy and the Random forest method also performs well, so we will make the Final evaluation based on these 2 methods"
   ]
  },
  {
   "cell_type": "code",
   "execution_count": 16,
   "metadata": {},
   "outputs": [
    {
     "name": "stdout",
     "output_type": "stream",
     "text": [
      "The performance of Gradient Boosting Clf is 0.9295774647887324\n",
      "\n",
      "The performance of Random forest Clf is 0.9272300469483568\n"
     ]
    }
   ],
   "source": [
    "from sklearn.metrics import accuracy_score\n",
    " #Perfomance of gradient boosting \n",
    "bosting_clf.fit(Xtrain, Ytrain)\n",
    "Yguess = bosting_clf.predict(Xtest)\n",
    "print(f'The performance of Gradient Boosting Clf is {accuracy_score(Ytest, Yguess)}\\n')\n",
    "#Perfomance of random forest\n",
    "rforest_clf.fit(Xtrain, Ytrain)\n",
    "Yguess = rforest_clf.predict(Xtest)\n",
    "print(f'The performance of Random forest Clf is {accuracy_score(Ytest, Yguess)}')"
   ]
  },
  {
   "cell_type": "code",
   "execution_count": 25,
   "metadata": {},
   "outputs": [
    {
     "data": {
      "image/png": "[encoded data removed]",
      "text/plain": [
       "<Figure size 1000x600 with 1 Axes>"
      ]
     },
     "metadata": {},
     "output_type": "display_data"
    }
   ],
   "source": [
    "#plotting\n",
    "import matplotlib.pyplot as plt\n",
    "# Mean scores of different classifiers \n",
    "classifiers = ['DecisionTree(after tuning)', 'RandomForest', 'GradientBoosting', 'MLP(after tuning)']\n",
    "scores = [0.9341176470588234, 0.941764705882353, 0.9488235294117647, 0.8911764705882353]\n",
    "\n",
    "# Plotting the graph\n",
    "plt.figure(figsize=(10, 6))\n",
    "plt.bar(classifiers, scores, color=['#005AB5', '#66C2A5', '#FC8D62', '#E6A65D'])\n",
    "plt.title('Mean Scores of Different Classifiers ')\n",
    "plt.xlabel('Classifier')\n",
    "plt.ylabel('Mean Score')\n",
    "plt.ylim(0.85, 1)  # Setting y-axis limit for better visualization\n",
    "plt.show()"
   ]
  },
  {
   "cell_type": "markdown",
   "metadata": {},
   "source": [
    "#### Findings: From the visualization we can say that GradientBoosting has best accuracy compared to other models."
   ]
  },
  {
   "cell_type": "markdown",
   "metadata": {},
   "source": [
    "### Task 2: Decision trees for classification"
   ]
  },
  {
   "cell_type": "markdown",
   "metadata": {},
   "source": [
    "*First, the setups*"
   ]
  },
  {
   "cell_type": "code",
   "execution_count": 17,
   "metadata": {},
   "outputs": [],
   "source": [
    "class DecisionTreeLeaf:\n",
    "\n",
    "    def __init__(self, value):\n",
    "        self.value = value\n",
    "\n",
    "    # This method computes the prediction for this leaf node. This will just return a constant value.\n",
    "    def predict(self, x):\n",
    "        return self.value\n",
    "\n",
    "    # Utility function to draw a tree visually using graphviz.\n",
    "    def draw_tree(self, graph, node_counter, names):\n",
    "        node_id = str(node_counter)\n",
    "        val_str = f'{self.value:.4g}' if isinstance(self.value, float) else str(self.value)\n",
    "        graph.node(node_id, val_str, style='filled')\n",
    "        return node_counter+1, node_id\n",
    "        \n",
    "    def __eq__(self, other):\n",
    "        if isinstance(other, DecisionTreeLeaf):\n",
    "            return self.value == other.value\n",
    "        else:\n",
    "            return False"
   ]
  },
  {
   "cell_type": "code",
   "execution_count": 18,
   "metadata": {},
   "outputs": [],
   "source": [
    "class DecisionTreeBranch:\n",
    "\n",
    "    def __init__(self, feature, threshold, low_subtree, high_subtree):\n",
    "        self.feature = feature\n",
    "        self.threshold = threshold\n",
    "        self.low_subtree = low_subtree\n",
    "        self.high_subtree = high_subtree\n",
    "\n",
    "    # For a branch node, we compute the prediction by first considering the feature, and then \n",
    "    # calling the upper or lower subtree, depending on whether the feature is or isn't greater\n",
    "    # than the threshold.\n",
    "    def predict(self, x):\n",
    "        if x[self.feature] <= self.threshold:\n",
    "            return self.low_subtree.predict(x)\n",
    "        else:\n",
    "            return self.high_subtree.predict(x)\n",
    "\n",
    "    # Utility function to draw a tree visually using graphviz.\n",
    "    def draw_tree(self, graph, node_counter, names):\n",
    "        node_counter, low_id = self.low_subtree.draw_tree(graph, node_counter, names)\n",
    "        node_counter, high_id = self.high_subtree.draw_tree(graph, node_counter, names)\n",
    "        node_id = str(node_counter)\n",
    "        fname = f'F{self.feature}' if names is None else names[self.feature]\n",
    "        lbl = f'{fname} > {self.threshold:.4g}?'\n",
    "        graph.node(node_id, lbl, shape='box', fillcolor='yellow', style='filled, rounded')\n",
    "        graph.edge(node_id, low_id, 'False')\n",
    "        graph.edge(node_id, high_id, 'True')\n",
    "        return node_counter+1, node_id"
   ]
  },
  {
   "cell_type": "code",
   "execution_count": 28,
   "metadata": {},
   "outputs": [],
   "source": [
    "from graphviz import Source"
   ]
  },
  {
   "cell_type": "code",
   "execution_count": 35,
   "metadata": {},
   "outputs": [],
   "source": [
    "from graphviz import Digraph\n",
    "from sklearn.base import BaseEstimator, ClassifierMixin\n",
    "from abc import ABC, abstractmethod\n",
    "\n",
    "class DecisionTree(ABC, BaseEstimator):\n",
    "\n",
    "    def __init__(self, max_depth):\n",
    "        super().__init__()\n",
    "        self.max_depth = max_depth\n",
    "        \n",
    "    \n",
    "    def fit(self, X, Y):\n",
    "        if isinstance(X, pd.DataFrame):\n",
    "            self.names = X.columns\n",
    "            X = X.to_numpy()\n",
    "        elif isinstance(X, list):\n",
    "            self.names = None\n",
    "            X = np.array(X)\n",
    "        else:\n",
    "            self.names = None\n",
    "        Y = np.array(Y)        \n",
    "        self.root = self.make_tree(X, Y, self.max_depth)\n",
    "        \n",
    "    # def draw_tree(self):\n",
    "    #     graph = Digraph()\n",
    "    #     self.root.draw_tree(graph, 0, self.names)\n",
    "    #     return graph\n",
    "    \n",
    "    def draw_tree(self):\n",
    "        graph = Digraph()\n",
    "        self.root.draw_tree(graph, 0, self.names)\n",
    "        return Source(graph.source) \n",
    "    \n",
    "    \n",
    "    def predict(self, X):\n",
    "        if isinstance(X, pd.DataFrame):\n",
    "            X = X.to_numpy()\n",
    "        return [self.predict_one(x) for x in X]\n",
    "\n",
    "    # Predicting the output for one instance.\n",
    "     \n",
    "    def predict_one(self, x):\n",
    "        return self.root.predict(x)        \n",
    "\n",
    "    # This is the recursive training \n",
    "    def make_tree(self, X, Y, max_depth):\n",
    "\n",
    "        \n",
    "        default_value = self.get_default_value(Y)\n",
    "\n",
    "        \n",
    "        if max_depth == 0:\n",
    "            return DecisionTreeLeaf(default_value)\n",
    "\n",
    "        \n",
    "        if self.is_homogeneous(Y):\n",
    "            return DecisionTreeLeaf(default_value)\n",
    "\n",
    "        \n",
    "        n_features = X.shape[1]\n",
    "        _, best_feature, best_threshold = max(self.best_split(X, Y, feature) for feature in range(n_features))\n",
    "        \n",
    "        if best_feature is None:\n",
    "            return DecisionTreeLeaf(default_value)\n",
    "\n",
    "        \n",
    "        X_low, X_high, Y_low, Y_high = self.split_by_feature(X, Y, best_feature, best_threshold)\n",
    "\n",
    "        \n",
    "        low_subtree = self.make_tree(X_low, Y_low, max_depth-1)\n",
    "        high_subtree = self.make_tree(X_high, Y_high, max_depth-1)\n",
    "\n",
    "        if low_subtree == high_subtree:\n",
    "            return low_subtree\n",
    "\n",
    "        # Return a decision tree branch containing the result.\n",
    "        return DecisionTreeBranch(best_feature, best_threshold, low_subtree, high_subtree)\n",
    "    \n",
    "    # Utility method that splits the data into the \"upper\" and \"lower\" part, based on a feature\n",
    "    # and a threshold.\n",
    "    def split_by_feature(self, X, Y, feature, threshold):\n",
    "        low = X[:,feature] <= threshold\n",
    "        high = ~low\n",
    "        return X[low], X[high], Y[low], Y[high]\n",
    "    \n",
    "    # The following three methods need to be implemented by the classification and regression subclasses.\n",
    "    \n",
    "    @abstractmethod\n",
    "    def get_default_value(self, Y):\n",
    "        pass\n",
    "\n",
    "    @abstractmethod\n",
    "    def is_homogeneous(self, Y):\n",
    "        pass\n",
    "\n",
    "    @abstractmethod\n",
    "    def best_split(self, X, Y, feature):\n",
    "        pass"
   ]
  },
  {
   "cell_type": "code",
   "execution_count": 36,
   "metadata": {},
   "outputs": [],
   "source": [
    "from collections import Counter\n",
    "\n",
    "class TreeClassifier(DecisionTree, ClassifierMixin):\n",
    "\n",
    "    def __init__(self, max_depth=10, criterion='maj_sum'):\n",
    "        super().__init__(max_depth)\n",
    "        self.criterion = criterion\n",
    "        \n",
    "    def fit(self, X, Y):\n",
    "        # For decision tree classifiers, there are some different ways to measure\n",
    "        # the homogeneity of subsets.\n",
    "        if self.criterion == 'maj_sum':\n",
    "            self.criterion_function = majority_sum_scorer\n",
    "        elif self.criterion == 'info_gain':\n",
    "            self.criterion_function = info_gain_scorer\n",
    "        elif self.criterion == 'gini':\n",
    "            self.criterion_function = gini_scorer\n",
    "        else:\n",
    "            raise Exception(f'Unknown criterion: {self.criterion}')\n",
    "        super().fit(X, Y)\n",
    "        self.classes_ = sorted(set(Y))\n",
    "\n",
    "    # Select a default value that is going to be used if we decide to make a leaf.\n",
    "    # We will select the most common value.\n",
    "    def get_default_value(self, Y):\n",
    "        self.class_distribution = Counter(Y)\n",
    "        return self.class_distribution.most_common(1)[0][0]\n",
    "    \n",
    "    \n",
    "    def is_homogeneous(self, Y):\n",
    "        return len(self.class_distribution) == 1\n",
    "        \n",
    "    # Finds the best splitting point for a given feature. We'll keep frequency tables (Counters)\n",
    "    \n",
    "    def best_split(self, X, Y, feature):\n",
    "\n",
    "        # Create a list of input-output pairs, where we have sorted\n",
    "        # in ascending order by the input feature we're considering.\n",
    "        sorted_indices = np.argsort(X[:, feature])        \n",
    "        X_sorted = list(X[sorted_indices, feature])\n",
    "        Y_sorted = list(Y[sorted_indices])\n",
    "\n",
    "        n = len(Y)\n",
    "\n",
    "        # The frequency tables corresponding to the parts *before and including*\n",
    "        # and *after* the current element.\n",
    "        low_distr = Counter()\n",
    "        high_distr = Counter(Y)\n",
    "\n",
    "        # Keep track of the best result we've seen so far.\n",
    "        max_score = -np.inf\n",
    "        max_i = None\n",
    "\n",
    "        # Go through all the positions (excluding the last position).\n",
    "        for i in range(0, n-1):\n",
    "\n",
    "            # Input and output at the current position.\n",
    "            x_i = X_sorted[i]\n",
    "            y_i = Y_sorted[i]\n",
    "            \n",
    "            # Update the frequency tables.\n",
    "            low_distr[y_i] += 1\n",
    "            high_distr[y_i] -= 1\n",
    "\n",
    "            # If the input is equal to the input at the next position, we will\n",
    "            # not consider a split here.\n",
    "           \n",
    "            x_next = X_sorted[i+1]\n",
    "            if x_i == x_next:\n",
    "                continue\n",
    "\n",
    "            # Compute the homogeneity criterion for a split at this position.\n",
    "            score = self.criterion_function(i+1, low_distr, n-i-1, high_distr)\n",
    "\n",
    "            # If this is the best split, remember it.\n",
    "            if score > max_score:\n",
    "                max_score = score\n",
    "                max_i = i\n",
    "\n",
    "       \n",
    "        if max_i is None:\n",
    "            return -np.inf, None, None\n",
    "\n",
    "        # Otherwise, return the best split we found and its score.\n",
    "        split_point = 0.5*(X_sorted[max_i] + X_sorted[max_i+1])\n",
    "        return max_score, feature, split_point"
   ]
  },
  {
   "cell_type": "code",
   "execution_count": 37,
   "metadata": {},
   "outputs": [],
   "source": [
    "def majority_sum_scorer(n_low, low_distr, n_high, high_distr):\n",
    "    maj_sum_low = low_distr.most_common(1)[0][1]\n",
    "    maj_sum_high = high_distr.most_common(1)[0][1]\n",
    "    return maj_sum_low + maj_sum_high\n",
    "    \n",
    "def entropy(distr):\n",
    "    n = sum(distr.values())\n",
    "    ps = [n_i/n for n_i in distr.values()]\n",
    "    return -sum(p*np.log2(p) if p > 0 else 0 for p in ps)\n",
    "\n",
    "def info_gain_scorer(n_low, low_distr, n_high, high_distr):\n",
    "    return -(n_low*entropy(low_distr)+n_high*entropy(high_distr))/(n_low+n_high)\n",
    "\n",
    "def gini_impurity(distr):\n",
    "    n = sum(distr.values())\n",
    "    ps = [n_i/n for n_i in distr.values()]\n",
    "    return 1-sum(p**2 for p in ps)\n",
    "    \n",
    "def gini_scorer(n_low, low_distr, n_high, high_distr):\n",
    "    return -(n_low*gini_impurity(low_distr)+n_high*gini_impurity(high_distr))/(n_low+n_high)"
   ]
  },
  {
   "cell_type": "code",
   "execution_count": 38,
   "metadata": {},
   "outputs": [
    {
     "name": "stdout",
     "output_type": "stream",
     "text": [
      "0.9099999999999999\n",
      "the score for max depth 2 is 0.8911764705882353\n",
      "the score for max depth 4 is 0.9105882352941176\n",
      "the score for max depth 6 is 0.9099999999999999\n",
      "the score for max depth 8 is 0.9099999999999999\n",
      "the score for max depth 10 is 0.9099999999999999\n",
      "the score for max depth 12 is 0.9076470588235294\n",
      "the score for max depth 14 is 0.9111764705882353\n",
      "the score for max depth 16 is 0.9123529411764706\n",
      "the score for max depth 18 is 0.9117647058823529\n",
      "the score for max depth 20 is 0.9064705882352941\n",
      "the score for max depth 22 is 0.9058823529411765\n",
      "the score for max depth 24 is 0.9047058823529411\n",
      "the score for max depth 26 is 0.9041176470588235\n",
      "the score for max depth 28 is 0.9023529411764706\n",
      "the score for max depth 30 is 0.9029411764705882\n"
     ]
    }
   ],
   "source": [
    "tree_clf2 = TreeClassifier()\n",
    "tree_clf2.fit(Xtrain, Ytrain)\n",
    "print(np.mean(cross_val_score(tree_clf2, Xtrain, Ytrain)))\n",
    "for i in range(2,32,2):\n",
    "  depth = i\n",
    "  current_clf = TreeClassifier(max_depth = i)\n",
    "  # current_clf.fit(Xtrain, Ytrain)\n",
    "  print(f'the score for max depth {i} is {np.mean(cross_val_score(current_clf, Xtrain, Ytrain))}')"
   ]
  },
  {
   "cell_type": "markdown",
   "metadata": {},
   "source": [
    "#### Findings: We optimized the max depth hyperparameter for the classifier to achieve the best cross-validation performance, finding that a maximum depth of 16 yielded the optimal result."
   ]
  },
  {
   "cell_type": "code",
   "execution_count": 39,
   "metadata": {},
   "outputs": [
    {
     "name": "stdout",
     "output_type": "stream",
     "text": [
      "The performance of the tree Clf is 0.8826291079812206\n"
     ]
    }
   ],
   "source": [
    "#trying the max_depth=16 in test data\n",
    "besttree_clf = TreeClassifier(max_depth=16)\n",
    "besttree_clf.fit(Xtrain, Ytrain)\n",
    "Yguess = besttree_clf.predict(Xtest)\n",
    "print(f'The performance of the tree Clf is {accuracy_score(Ytest, Yguess)}')"
   ]
  },
  {
   "cell_type": "markdown",
   "metadata": {},
   "source": [
    "#### Fimdings: After adjusting the max_depth parameter through testing, we found that max_depth equal  to 16 resulted in the best performance when evaluated on the test set with score of perfomance equal to 0.8826"
   ]
  },
  {
   "cell_type": "markdown",
   "metadata": {},
   "source": [
    "#### Visualization of the tree\n",
    "\n",
    "#### The jupyter can't transfer the svg picture created by the draw_tree() to a format that can be read in HTML directly. So I save the image and embedded it into the next Markdown block."
   ]
  },
  {
   "cell_type": "code",
   "execution_count": null,
   "metadata": {},
   "outputs": [],
   "source": [
    "clf = TreeClassifier(max_depth=2)\n",
    "clf.fit(Xtrain, Ytrain)\n",
    "clf.draw_tree()"
   ]
  },
  {
   "attachments": {
    "image.png": {
     "image/png": "[encoded data removed]"
    }
   },
   "cell_type": "markdown",
   "metadata": {},
   "source": [
    "![image.png](attachment:image.png)"
   ]
  },
  {
   "cell_type": "markdown",
   "metadata": {},
   "source": [
    "### Task 3 A regression example: predicting apartment prices"
   ]
  },
  {
   "cell_type": "code",
   "execution_count": 43,
   "metadata": {},
   "outputs": [],
   "source": [
    "# Read the CSV file using Pandas.\n",
    "alldata = pd.read_csv('sberbank.csv')\n",
    "\n",
    "# Convert the timestamp string to an integer representing the year.\n",
    "def get_year(timestamp):\n",
    "    return int(timestamp[:4])\n",
    "alldata['year'] = alldata.timestamp.apply(get_year)\n",
    "\n",
    "# Select the 9 input columns and the output column.\n",
    "selected_columns = ['price_doc', 'year', 'full_sq', 'life_sq', 'floor', 'num_room', 'kitch_sq', 'full_all']\n",
    "alldata = alldata[selected_columns]\n",
    "alldata = alldata.dropna()\n",
    "\n",
    "# Shuffle.\n",
    "alldata_shuffled = alldata.sample(frac=1.0, random_state=0)\n",
    "\n",
    "# Separate the input and output columns.\n",
    "X = alldata_shuffled.drop('price_doc', axis=1)\n",
    "# For the output, we'll use the log of the sales price.\n",
    "Y = alldata_shuffled['price_doc'].apply(np.log)\n",
    "\n",
    "# Split into training and test sets.\n",
    "Xtrain, Xtest, Ytrain, Ytest = train_test_split(X, Y, test_size=0.2, random_state=0)"
   ]
  },
  {
   "cell_type": "code",
   "execution_count": 44,
   "metadata": {},
   "outputs": [
    {
     "name": "stdout",
     "output_type": "stream",
     "text": [
      "[-0.39897319 -0.37113485 -0.38083108 -0.39057156 -0.40475168]\n",
      "-0.38925247260237567\n"
     ]
    }
   ],
   "source": [
    "from sklearn.dummy import DummyRegressor\n",
    "from sklearn.model_selection import cross_validate\n",
    "dummy_r = DummyRegressor()\n",
    "print(cross_val_score(dummy_r, Xtrain, Ytrain, scoring='neg_mean_squared_error'))\n",
    "print(np.mean((cross_validate(dummy_r, Xtrain, Ytrain, scoring='neg_mean_squared_error')['test_score'])))"
   ]
  },
  {
   "cell_type": "markdown",
   "metadata": {},
   "source": [
    "*Linear Regression*"
   ]
  },
  {
   "cell_type": "code",
   "execution_count": 45,
   "metadata": {},
   "outputs": [
    {
     "name": "stdout",
     "output_type": "stream",
     "text": [
      "-0.3013986588767198\n"
     ]
    }
   ],
   "source": [
    "from sklearn.linear_model import LinearRegression\n",
    "linear_r = LinearRegression()\n",
    "print(np.mean(cross_validate(linear_r, Xtrain, Ytrain, scoring='neg_mean_squared_error')['test_score']))"
   ]
  },
  {
   "cell_type": "markdown",
   "metadata": {},
   "source": [
    "*Ridge*"
   ]
  },
  {
   "cell_type": "code",
   "execution_count": 46,
   "metadata": {},
   "outputs": [
    {
     "name": "stdout",
     "output_type": "stream",
     "text": [
      "-0.3013978423217975\n"
     ]
    }
   ],
   "source": [
    "from sklearn.linear_model import Ridge\n",
    "ridge_r = Ridge()\n",
    "print(np.mean(cross_validate(ridge_r, Xtrain, Ytrain, scoring='neg_mean_squared_error')['test_score']))"
   ]
  },
  {
   "cell_type": "markdown",
   "metadata": {},
   "source": [
    "*Lasso*"
   ]
  },
  {
   "cell_type": "code",
   "execution_count": 47,
   "metadata": {},
   "outputs": [
    {
     "name": "stdout",
     "output_type": "stream",
     "text": [
      "-0.3010470671748872\n"
     ]
    }
   ],
   "source": [
    "from sklearn.linear_model import Lasso\n",
    "lasso_r = Lasso()\n",
    "print(np.mean(cross_validate(lasso_r, Xtrain, Ytrain, scoring='neg_mean_squared_error')['test_score']))"
   ]
  },
  {
   "cell_type": "markdown",
   "metadata": {},
   "source": [
    "*DecisionTreeRegressor*"
   ]
  },
  {
   "cell_type": "code",
   "execution_count": 48,
   "metadata": {},
   "outputs": [
    {
     "name": "stdout",
     "output_type": "stream",
     "text": [
      "-0.5278114082240045\n"
     ]
    }
   ],
   "source": [
    "from  sklearn.tree import DecisionTreeRegressor\n",
    "decisiontree_r = DecisionTreeRegressor()\n",
    "print(np.mean(cross_validate(decisiontree_r, Xtrain, Ytrain, scoring='neg_mean_squared_error')['test_score']))"
   ]
  },
  {
   "cell_type": "markdown",
   "metadata": {},
   "source": [
    "*RandomForestRegressor*"
   ]
  },
  {
   "cell_type": "code",
   "execution_count": 49,
   "metadata": {},
   "outputs": [
    {
     "name": "stdout",
     "output_type": "stream",
     "text": [
      "-0.2836826484276428\n"
     ]
    }
   ],
   "source": [
    "from  sklearn.ensemble import RandomForestRegressor\n",
    "forest_r = RandomForestRegressor()\n",
    "print(np.mean(cross_validate(forest_r, Xtrain, Ytrain, scoring='neg_mean_squared_error')['test_score']))"
   ]
  },
  {
   "cell_type": "markdown",
   "metadata": {},
   "source": [
    "*GradientBoostingRegressor*"
   ]
  },
  {
   "cell_type": "code",
   "execution_count": 50,
   "metadata": {},
   "outputs": [
    {
     "name": "stdout",
     "output_type": "stream",
     "text": [
      "-0.2645157790636336\n"
     ]
    }
   ],
   "source": [
    "from  sklearn.ensemble import GradientBoostingRegressor\n",
    "gradient_r = GradientBoostingRegressor()\n",
    "print(np.mean(cross_validate(gradient_r, Xtrain, Ytrain, scoring='neg_mean_squared_error')['test_score']))"
   ]
  },
  {
   "cell_type": "markdown",
   "metadata": {},
   "source": [
    "*MLPRegressor*"
   ]
  },
  {
   "cell_type": "code",
   "execution_count": 51,
   "metadata": {},
   "outputs": [
    {
     "name": "stdout",
     "output_type": "stream",
     "text": [
      "-2936.944565659123\n"
     ]
    }
   ],
   "source": [
    "from  sklearn.neural_network import MLPRegressor\n",
    "neural_r = MLPRegressor()\n",
    "print(np.mean(cross_validate(neural_r, Xtrain, Ytrain, scoring='neg_mean_squared_error')['test_score']))"
   ]
  },
  {
   "cell_type": "markdown",
   "metadata": {},
   "source": [
    "*Final evaluation*"
   ]
  },
  {
   "cell_type": "code",
   "execution_count": 52,
   "metadata": {},
   "outputs": [
    {
     "name": "stderr",
     "output_type": "stream",
     "text": [
      "No artists with labels found to put in legend.  Note that artists whose label start with an underscore are ignored when legend() is called with no argument.\n"
     ]
    },
    {
     "data": {
      "image/png": "[encoded data removed]",
      "text/plain": [
       "<Figure size 1000x600 with 1 Axes>"
      ]
     },
     "metadata": {},
     "output_type": "display_data"
    }
   ],
   "source": [
    "# Regression models and their evaluation scores\n",
    "models = ['Linear Regression', 'Ridge Regression', 'Lasso Regression', 'Decision Tree', 'Random Forest', 'Gradient Boosting']\n",
    "scores = [-0.301, -0.301, -0.301, -0.529, -0.283, -0.264]\n",
    "\n",
    "# Selected model\n",
    "#selected_model = 'Gradient Boosting'\n",
    "selected_score = -0.264\n",
    "\n",
    "# Create bar plot with x and y axes interchanged\n",
    "plt.figure(figsize=(10, 6))\n",
    "plt.barh(models, scores, color='skyblue')\n",
    "plt.ylabel('Regression Models')\n",
    "plt.xlabel(' Negative Mean Squared Error')\n",
    "plt.title('Evaluation of Regression Models')\n",
    "plt.axvline(selected_score, color='red', linestyle='--')\n",
    "plt.legend()\n",
    "plt.tight_layout()\n",
    "plt.show()"
   ]
  },
  {
   "cell_type": "markdown",
   "metadata": {},
   "source": [
    "#### Findings: Based on the score of all the methods above, the Gradient Boosting has the best performance with evaluation score -0.2645\n",
    "And we will do the final evaluation on test data based on this."
   ]
  },
  {
   "cell_type": "code",
   "execution_count": 64,
   "metadata": {},
   "outputs": [
    {
     "name": "stdout",
     "output_type": "stream",
     "text": [
      "the MSE is 0.2714611772972582\n"
     ]
    }
   ],
   "source": [
    "from sklearn.metrics import mean_squared_error\n",
    "bestreg = GradientBoostingRegressor()\n",
    "# print(np.mean(cross_validate(r1, Xtrain, Ytrain, scoring='neg_mean_squared_error')['test_score']))\n",
    "bestreg.fit(Xtrain, Ytrain)\n",
    "print(f'the MSE is {mean_squared_error(Ytest, bestreg.predict(Xtest))}')"
   ]
  },
  {
   "cell_type": "markdown",
   "metadata": {},
   "source": [
    "### Task 4 Decision trees for regression"
   ]
  },
  {
   "cell_type": "markdown",
   "metadata": {},
   "source": [
    "#### Step 4.1. Implementing the regression model"
   ]
  },
  {
   "cell_type": "code",
   "execution_count": 54,
   "metadata": {},
   "outputs": [],
   "source": [
    "from collections import Counter\n",
    "from sklearn.base import BaseEstimator, ClassifierMixin, RegressorMixin\n",
    "import statistics\n",
    "class TreeRegressor(DecisionTree, RegressorMixin):\n",
    "\n",
    "    def __init__(self, max_depth=10, homo_threshold=0.3):\n",
    "        super().__init__(max_depth)\n",
    "        self.homo_threshold = homo_threshold\n",
    "        \n",
    "    def fit(self, X, Y):\n",
    "        super().fit(X, Y)\n",
    "        self.classes_ = sorted(set(Y))\n",
    "\n",
    "\n",
    "    def get_default_value(self, Y):\n",
    "        return np.mean(Y)\n",
    "\n",
    "    def is_homogeneous(self, Y):\n",
    "        #todo set it to 100?\n",
    "        return np.var(Y) < self.homo_threshold        \n",
    "\n",
    "    def best_split(self, X, Y, feature):\n",
    "\n",
    "        sorted_indices = np.argsort(X[:, feature])        \n",
    "        X_sorted = list(X[sorted_indices, feature])\n",
    "        Y_sorted = list(Y[sorted_indices])\n",
    "\n",
    "        n = len(Y)\n",
    "        max_score = -np.inf\n",
    "        max_i = None\n",
    "\n",
    "        # todo should keep the loop, different statistic\n",
    "\n",
    "        # Go through all the positions (excluding the last position).\n",
    "        # todo n-2?\n",
    "        var_full = np.var(Y)\n",
    "        for i in range(0, n-1):\n",
    "\n",
    "            # todo for each i(s, splitting poitn),we just compute the below and above part seperately\n",
    "            # var_full = np.var(Y)\n",
    "            # var_full2 = 1/n * np.sum(Y**2) - 1/n**2 * (np.sum(Y))**2 \n",
    "            x_i = X_sorted[i]\n",
    "            x_next = X_sorted[i+1]\n",
    "            if x_i == x_next:\n",
    "                continue\n",
    "\n",
    "            low_y = Y_sorted[0 : i + 1]\n",
    "            low_var = np.var(low_y)\n",
    "            # low_var = 1 / len(low_y) * np.sum(np.array(low_y) ** 2) - 1 / len(low_y) ** 2 * (np.sum(low_y)) ** 2\n",
    "            mse_low = low_var * (i + 1)\n",
    "\n",
    "            high_y = Y_sorted[i + 1 : n]\n",
    "            high_var = np.var(high_y)\n",
    "            # high_var = 1 / len(high_y) * np.sum(np.array(high_y) ** 2) - 1 / len(high_y) ** 2 * (np.sum(high_y)) ** 2\n",
    "            mse_high = high_var * (n - i - 1)\n",
    "\n",
    "            var_reduction = var_full - mse_low/n - mse_high/n\n",
    "            if var_reduction > max_score:\n",
    "                max_score = var_reduction\n",
    "                max_i = i\n",
    "\n",
    "        # If we didn't find any split (meaning that all inputs are identical), return\n",
    "        # a dummy value.\n",
    "        if max_i is None:\n",
    "            return -np.inf, None, None\n",
    "\n",
    "        # Otherwise, return the best split we found and its score.\n",
    "        split_point = 0.5*(X_sorted[max_i] + X_sorted[max_i+1])\n",
    "        return max_score, feature, split_point"
   ]
  },
  {
   "cell_type": "code",
   "execution_count": 55,
   "metadata": {},
   "outputs": [
    {
     "data": {
      "text/plain": [
       "0.3918834986827815"
      ]
     },
     "execution_count": 55,
     "metadata": {},
     "output_type": "execute_result"
    }
   ],
   "source": [
    "np.var(Y)"
   ]
  },
  {
   "cell_type": "markdown",
   "metadata": {},
   "source": [
    "*The variance of Y is around 0.4, so our choice of homogenity threshold should be significantly less than this one. We set it to 0.1 and also add it to the hyperparameter part of the function.*"
   ]
  },
  {
   "cell_type": "code",
   "execution_count": null,
   "metadata": {},
   "outputs": [],
   "source": [
    "rls = TreeRegressor(max_depth=1, homo_threshold = 0.1)\n",
    "rls.fit(Xtrain, Ytrain)\n",
    "rls.draw_tree()"
   ]
  },
  {
   "attachments": {
    "image.png": {
     "image/png": "[encoded data removed]"
    }
   },
   "cell_type": "markdown",
   "metadata": {},
   "source": [
    "![image.png](attachment:image.png)"
   ]
  },
  {
   "cell_type": "markdown",
   "metadata": {},
   "source": [
    "#### Step 4.2. Sanity check"
   ]
  },
  {
   "cell_type": "code",
   "execution_count": 57,
   "metadata": {},
   "outputs": [
    {
     "data": {
      "text/plain": [
       "0.2366881644708669"
      ]
     },
     "execution_count": 57,
     "metadata": {},
     "output_type": "execute_result"
    }
   ],
   "source": [
    "def make_some_data(n):\n",
    "    x = np.random.uniform(-5, 5, size=n)\n",
    "    Y = (x > 1) + 0.1*np.random.normal(size=n)\n",
    "    X = x.reshape(n, 1) # X needs to be a 2-dimensional matrix\n",
    "    return X, Y\n",
    "\n",
    "(XCheck, YCheck) = make_some_data(200)\n",
    "np.var(YCheck)"
   ]
  },
  {
   "cell_type": "code",
   "execution_count": 58,
   "metadata": {},
   "outputs": [
    {
     "data": {
      "image/png": "[encoded data removed]",
      "text/plain": [
       "<Figure size 640x480 with 1 Axes>"
      ]
     },
     "metadata": {},
     "output_type": "display_data"
    }
   ],
   "source": [
    "plt.scatter(XCheck[:, 0], YCheck, alpha=0.5)\n",
    "plt.show()"
   ]
  },
  {
   "cell_type": "code",
   "execution_count": null,
   "metadata": {},
   "outputs": [],
   "source": [
    "rlscheck = TreeRegressor(max_depth=1, homo_threshold = 0)\n",
    "rlscheck.fit(XCheck, YCheck)\n",
    "rlscheck.draw_tree()"
   ]
  },
  {
   "attachments": {
    "image.png": {
     "image/png": "[encoded data removed]"
    }
   },
   "cell_type": "markdown",
   "metadata": {},
   "source": [
    "![image.png](attachment:image.png)"
   ]
  },
  {
   "cell_type": "markdown",
   "metadata": {},
   "source": [
    "##### Findings:  A decision tree with a max depth of 1 and a homogeneity threshold of 0 would effectively capture the underlying structure of the data. If we allow the tree depth to be a large number, then the tree may have the problem of overfitting. Our data has obvious binary characteristics, so we should not expect a tree with many leaves."
   ]
  },
  {
   "cell_type": "markdown",
   "metadata": {},
   "source": [
    "##### Step 4.3. Predicting apartment prices using decision tree regression"
   ]
  },
  {
   "cell_type": "code",
   "execution_count": 60,
   "metadata": {},
   "outputs": [
    {
     "data": {
      "text/plain": [
       "0.3344961794193524"
      ]
     },
     "execution_count": 60,
     "metadata": {},
     "output_type": "execute_result"
    }
   ],
   "source": [
    "r3 = TreeRegressor(max_depth=12, homo_threshold = 0.1)\n",
    "r3.fit(Xtrain, Ytrain)\n",
    "mean_squared_error(Ytest, r3.predict(Xtest))"
   ]
  },
  {
   "cell_type": "markdown",
   "metadata": {},
   "source": [
    "#### Findings:  We use a decision tree with a max depth of 12 and a homogeneity threshold of 0.1. The evaluation score is 0.3345"
   ]
  },
  {
   "cell_type": "markdown",
   "metadata": {},
   "source": [
    "#### Step 4.4. Underfitting and overfitting"
   ]
  },
  {
   "cell_type": "code",
   "execution_count": 61,
   "metadata": {},
   "outputs": [
    {
     "name": "stdout",
     "output_type": "stream",
     "text": [
      "the mean squared error for train data at max depth0:0.3891468647585388\n",
      "the mean squared error for test data at max depth0:0.4028398414133475\n",
      "\n",
      "the mean squared error for train data at max depth1:0.3263543480100574\n",
      "the mean squared error for test data at max depth1:0.34098250711388134\n",
      "\n",
      "the mean squared error for train data at max depth2:0.30042490282992007\n",
      "the mean squared error for test data at max depth2:0.3116427403885958\n",
      "\n",
      "the mean squared error for train data at max depth3:0.28927232915183554\n",
      "the mean squared error for test data at max depth3:0.30188395972140913\n",
      "\n",
      "the mean squared error for train data at max depth4:0.2807451934658121\n",
      "the mean squared error for test data at max depth4:0.29310031188060437\n",
      "\n",
      "the mean squared error for train data at max depth5:0.2742861310363099\n",
      "the mean squared error for test data at max depth5:0.2908261342315253\n",
      "\n",
      "the mean squared error for train data at max depth6:0.2667434009364825\n",
      "the mean squared error for test data at max depth6:0.28643634372540716\n",
      "\n",
      "the mean squared error for train data at max depth7:0.2580975870702128\n",
      "the mean squared error for test data at max depth7:0.2903456812456766\n",
      "\n",
      "the mean squared error for train data at max depth8:0.24871134720458812\n",
      "the mean squared error for test data at max depth8:0.29958287041487663\n",
      "\n",
      "the mean squared error for train data at max depth9:0.2399212618132105\n",
      "the mean squared error for test data at max depth9:0.30619762526665\n",
      "\n",
      "the mean squared error for train data at max depth10:0.22830762290316794\n",
      "the mean squared error for test data at max depth10:0.3115943343862184\n",
      "\n",
      "the mean squared error for train data at max depth11:0.21575688242870109\n",
      "the mean squared error for test data at max depth11:0.3194575932075286\n",
      "\n",
      "the mean squared error for train data at max depth12:0.20319241737696103\n",
      "the mean squared error for test data at max depth12:0.3344961794193524\n",
      "\n"
     ]
    }
   ],
   "source": [
    "warnings.filterwarnings(\"ignore\", category=RuntimeWarning)\n",
    "\n",
    "mse_train = [0] * 13\n",
    "mse_test = [0] * 13\n",
    "for i in range(0,13):\n",
    "  r = TreeRegressor(max_depth=i, homo_threshold = 0.1)\n",
    "  r.fit(Xtrain, Ytrain)\n",
    "\n",
    "  # on train data\n",
    "  train_predictions = r.predict(Xtrain)\n",
    "  mse_train[i] = mean_squared_error(Ytrain, train_predictions)\n",
    "\n",
    "  # on test data\n",
    "  test_predictions = r.predict(Xtest)\n",
    "  mse_test[i] = mean_squared_error(Ytest, test_predictions)\n",
    "\n",
    "  print(f'the mean squared error for train data at max depth{i}:{mse_train[i]}')\n",
    "  print(f'the mean squared error for test data at max depth{i}:{mse_test[i]}\\n')"
   ]
  },
  {
   "cell_type": "code",
   "execution_count": 62,
   "metadata": {},
   "outputs": [
    {
     "data": {
      "image/png": "[encoded data removed]",
      "text/plain": [
       "<Figure size 640x480 with 1 Axes>"
      ]
     },
     "metadata": {},
     "output_type": "display_data"
    },
    {
     "data": {
      "text/plain": [
       "<Figure Size: (640 x 480)>"
      ]
     },
     "execution_count": 62,
     "metadata": {},
     "output_type": "execute_result"
    }
   ],
   "source": [
    "from plotnine import *\n",
    "d1 = mse_train\n",
    "d2 = mse_test\n",
    "d = [d1, d2]\n",
    "depth = range(0,13)\n",
    "df1 = pd.DataFrame({'MSE': d1, 'group': 'train', 'depth':depth})\n",
    "df2 = pd.DataFrame({'MSE': d2, 'group': 'test', 'depth':depth})\n",
    "\n",
    "df = pd.concat([df1, df2])\n",
    "\n",
    "p3 = (ggplot(df, aes(x = 'depth', y = 'MSE', color = 'group'))\n",
    "      + geom_line()\n",
    "      + geom_point()\n",
    "      + theme_minimal()\n",
    "      + theme_bw()\n",
    "      + labs(x = 'Max Depth')\n",
    "      )\n",
    "p3"
   ]
  },
  {
   "cell_type": "markdown",
   "metadata": {},
   "source": [
    "#### Findings: based on the MSE values and the plot, we can observe that as the maximum depth of the decision tree increases, the MSE for the training data continues to decrease, while the MSE for the test data initially decreases but then starts to increase after a certain point(max_depth=6). This phenomenon is indicative of overfitting. "
   ]
  }
 ],
 "metadata": {
  "kernelspec": {
   "display_name": "base",
   "language": "python",
   "name": "python3"
  },
  "language_info": {
   "codemirror_mode": {
    "name": "ipython",
    "version": 3
   },
   "file_extension": ".py",
   "mimetype": "text/x-python",
   "name": "python",
   "nbconvert_exporter": "python",
   "pygments_lexer": "ipython3",
   "version": "3.10.13"
  }
 },
 "nbformat": 4,
 "nbformat_minor": 2
}
